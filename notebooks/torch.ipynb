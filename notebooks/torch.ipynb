{
 "cells": [
  {
   "cell_type": "code",
   "execution_count": 1,
   "metadata": {},
   "outputs": [],
   "source": [
    "import torch\n",
    "import torch.nn as nn"
   ]
  },
  {
   "cell_type": "code",
   "execution_count": 2,
   "metadata": {},
   "outputs": [
    {
     "data": {
      "text/plain": [
       "Parameter containing:\n",
       "tensor([[-6.2718e-01, -2.3692e-01, -6.5170e-01, -3.7918e-01,  1.8936e+00,\n",
       "         -1.6325e+00,  7.1764e-01, -1.9833e+00],\n",
       "        [-5.2158e-01, -2.0997e-01,  7.1299e-01, -6.0251e-01,  5.0125e-04,\n",
       "         -8.6180e-01,  1.1143e+00,  5.6994e-01],\n",
       "        [ 4.7557e-01, -9.7971e-02, -7.8141e-01, -2.1923e+00,  8.2116e-02,\n",
       "          6.2901e-01, -1.6155e+00,  8.3228e-01],\n",
       "        [-1.1955e+00, -3.8827e-01, -1.2004e+00, -1.6852e-01, -1.0342e-01,\n",
       "         -1.2304e+00,  5.3759e-01,  1.2281e+00],\n",
       "        [-1.2974e+00, -7.4639e-01, -7.6854e-01,  2.0425e-01,  5.0526e-01,\n",
       "         -1.2049e+00,  6.2339e-01,  1.0362e+00],\n",
       "        [-4.7334e-01, -4.2351e-01,  1.4082e-01, -4.3955e-02,  1.0506e+00,\n",
       "         -2.1156e-01,  1.2013e+00,  1.4378e+00],\n",
       "        [-4.0865e-01,  2.8389e-01,  5.7553e-01, -4.6749e-01, -7.3301e-01,\n",
       "         -1.9630e+00, -2.1937e+00,  1.2181e+00]], requires_grad=True)"
      ]
     },
     "execution_count": 2,
     "metadata": {},
     "output_type": "execute_result"
    }
   ],
   "source": [
    "weight = torch.empty((7, 8))\n",
    "nn.init.trunc_normal_(weight, a=-3, b=3)\n",
    "w = nn.Parameter(weight)\n",
    "w"
   ]
  },
  {
   "cell_type": "code",
   "execution_count": 3,
   "metadata": {},
   "outputs": [
    {
     "data": {
      "text/plain": [
       "tensor([[-5.2158e-01, -2.0997e-01,  7.1299e-01, -6.0251e-01,  5.0125e-04,\n",
       "         -8.6180e-01,  1.1143e+00,  5.6994e-01],\n",
       "        [-1.2974e+00, -7.4639e-01, -7.6854e-01,  2.0425e-01,  5.0526e-01,\n",
       "         -1.2049e+00,  6.2339e-01,  1.0362e+00],\n",
       "        [-4.7334e-01, -4.2351e-01,  1.4082e-01, -4.3955e-02,  1.0506e+00,\n",
       "         -2.1156e-01,  1.2013e+00,  1.4378e+00],\n",
       "        [-6.2718e-01, -2.3692e-01, -6.5170e-01, -3.7918e-01,  1.8936e+00,\n",
       "         -1.6325e+00,  7.1764e-01, -1.9833e+00]], grad_fn=<IndexBackward0>)"
      ]
     },
     "execution_count": 3,
     "metadata": {},
     "output_type": "execute_result"
    }
   ],
   "source": [
    "token_ids = torch.LongTensor([1, 4, 5, 0])\n",
    "w[token_ids]"
   ]
  },
  {
   "cell_type": "code",
   "execution_count": 4,
   "metadata": {},
   "outputs": [
    {
     "data": {
      "text/plain": [
       "tensor([[1.8936],\n",
       "        [1.1143],\n",
       "        [0.8323],\n",
       "        [1.2281],\n",
       "        [1.0362],\n",
       "        [1.4378],\n",
       "        [1.2181]], grad_fn=<MaxBackward0>)"
      ]
     },
     "execution_count": 4,
     "metadata": {},
     "output_type": "execute_result"
    }
   ],
   "source": [
    "w.max(dim=-1, keepdim=True).values"
   ]
  },
  {
   "cell_type": "code",
   "execution_count": 5,
   "metadata": {},
   "outputs": [
    {
     "name": "stdout",
     "output_type": "stream",
     "text": [
      "tensor([0.0000, 0.3333, 0.6667], device='mps:0')\n"
     ]
    },
    {
     "data": {
      "text/plain": [
       "torch.Size([3])"
      ]
     },
     "execution_count": 5,
     "metadata": {},
     "output_type": "execute_result"
    }
   ],
   "source": [
    "device = 'mps' if torch.backends.mps.is_available() else 'cpu'\n",
    "d_k = 6\n",
    "max_seq_len = 10\n",
    "theta = 0.5\n",
    "kd = torch.arange(0, d_k, 2, device=device) / d_k\n",
    "print(kd)\n",
    "kd.shape"
   ]
  },
  {
   "cell_type": "code",
   "execution_count": 6,
   "metadata": {},
   "outputs": [
    {
     "name": "stdout",
     "output_type": "stream",
     "text": [
      "tensor([[0],\n",
      "        [1],\n",
      "        [2],\n",
      "        [3],\n",
      "        [4],\n",
      "        [5],\n",
      "        [6],\n",
      "        [7],\n",
      "        [8],\n",
      "        [9]], device='mps:0')\n"
     ]
    },
    {
     "data": {
      "text/plain": [
       "torch.Size([10, 1])"
      ]
     },
     "execution_count": 6,
     "metadata": {},
     "output_type": "execute_result"
    }
   ],
   "source": [
    "positions = torch.arange(max_seq_len, device=device).unsqueeze(1)\n",
    "print(positions)\n",
    "positions.shape"
   ]
  },
  {
   "cell_type": "code",
   "execution_count": 7,
   "metadata": {},
   "outputs": [
    {
     "name": "stdout",
     "output_type": "stream",
     "text": [
      "tensor([[ 0.0000,  0.0000,  0.0000],\n",
      "        [ 1.0000,  1.2599,  1.5874],\n",
      "        [ 2.0000,  2.5198,  3.1748],\n",
      "        [ 3.0000,  3.7798,  4.7622],\n",
      "        [ 4.0000,  5.0397,  6.3496],\n",
      "        [ 5.0000,  6.2996,  7.9370],\n",
      "        [ 6.0000,  7.5595,  9.5244],\n",
      "        [ 7.0000,  8.8194, 11.1118],\n",
      "        [ 8.0000, 10.0794, 12.6992],\n",
      "        [ 9.0000, 11.3393, 14.2866]], device='mps:0')\n"
     ]
    },
    {
     "data": {
      "text/plain": [
       "torch.Size([10, 3])"
      ]
     },
     "execution_count": 7,
     "metadata": {},
     "output_type": "execute_result"
    }
   ],
   "source": [
    "angles = positions / (theta ** kd)\n",
    "print(angles)\n",
    "angles.shape"
   ]
  },
  {
   "cell_type": "code",
   "execution_count": 8,
   "metadata": {},
   "outputs": [
    {
     "data": {
      "text/plain": [
       "torch.Size([10, 10, 60])"
      ]
     },
     "execution_count": 8,
     "metadata": {},
     "output_type": "execute_result"
    }
   ],
   "source": [
    "d_model = 20\n",
    "num_heads = 5\n",
    "qkv_proj = nn.Linear(d_model, d_model * 3)\n",
    "x = torch.randn((10, 10, d_model))\n",
    "qkv = qkv_proj(x)\n",
    "qkv.size()"
   ]
  },
  {
   "cell_type": "code",
   "execution_count": 9,
   "metadata": {},
   "outputs": [
    {
     "data": {
      "text/plain": [
       "torch.Size([10, 10, 20])"
      ]
     },
     "execution_count": 9,
     "metadata": {},
     "output_type": "execute_result"
    }
   ],
   "source": [
    "q, k, v = qkv.split(d_model, dim=2)\n",
    "assert q.size() == k.size() == v.size()\n",
    "q.size()"
   ]
  },
  {
   "cell_type": "code",
   "execution_count": 10,
   "metadata": {},
   "outputs": [
    {
     "data": {
      "text/plain": [
       "torch.Size([10, 5, 10, 4])"
      ]
     },
     "execution_count": 10,
     "metadata": {},
     "output_type": "execute_result"
    }
   ],
   "source": [
    "from einops import rearrange\n",
    "q = rearrange(q, \"batch seq_len (h d_k) -> batch h seq_len d_k\", h=num_heads)\n",
    "q.shape"
   ]
  }
 ],
 "metadata": {
  "kernelspec": {
   "display_name": ".venv",
   "language": "python",
   "name": "python3"
  },
  "language_info": {
   "codemirror_mode": {
    "name": "ipython",
    "version": 3
   },
   "file_extension": ".py",
   "mimetype": "text/x-python",
   "name": "python",
   "nbconvert_exporter": "python",
   "pygments_lexer": "ipython3",
   "version": "3.12.9"
  }
 },
 "nbformat": 4,
 "nbformat_minor": 2
}
