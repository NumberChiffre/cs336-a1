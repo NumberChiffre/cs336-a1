{
 "cells": [
  {
   "cell_type": "code",
   "execution_count": 1,
   "metadata": {},
   "outputs": [],
   "source": [
    "import torch\n",
    "import torch.nn as nn"
   ]
  },
  {
   "cell_type": "code",
   "execution_count": 13,
   "metadata": {},
   "outputs": [
    {
     "data": {
      "text/plain": [
       "Parameter containing:\n",
       "tensor([[-0.3832,  0.8606, -1.7517,  0.7076,  2.2103, -1.5405,  1.2070,  0.0998],\n",
       "        [-0.7179,  0.4025, -0.8924,  1.8451, -0.9918,  0.7694,  0.2267,  0.8916],\n",
       "        [ 0.4341,  0.1305, -0.8007,  0.4984, -0.9012, -1.3600,  0.3625,  0.1098],\n",
       "        [-0.8205,  0.3829,  0.1975, -0.6843,  1.2443, -0.2354, -0.4630,  0.9522],\n",
       "        [ 0.4790,  1.1544,  2.1247, -0.2140, -0.7958,  0.9266,  0.2810, -0.9987],\n",
       "        [-1.8545, -1.1224,  1.1660, -0.3597, -2.3507,  1.0263, -0.0092, -1.2897],\n",
       "        [ 1.0308, -1.4569,  0.3120, -2.0290,  0.0909, -1.8946,  0.1431, -0.5837]],\n",
       "       requires_grad=True)"
      ]
     },
     "execution_count": 13,
     "metadata": {},
     "output_type": "execute_result"
    }
   ],
   "source": [
    "weight = torch.empty((7, 8))\n",
    "nn.init.trunc_normal_(weight, a=-3, b=3)\n",
    "w = nn.Parameter(weight)\n",
    "w"
   ]
  },
  {
   "cell_type": "code",
   "execution_count": 15,
   "metadata": {},
   "outputs": [
    {
     "data": {
      "text/plain": [
       "tensor([[-0.7179,  0.4025, -0.8924,  1.8451, -0.9918,  0.7694,  0.2267,  0.8916],\n",
       "        [ 0.4790,  1.1544,  2.1247, -0.2140, -0.7958,  0.9266,  0.2810, -0.9987],\n",
       "        [-1.8545, -1.1224,  1.1660, -0.3597, -2.3507,  1.0263, -0.0092, -1.2897],\n",
       "        [-0.3832,  0.8606, -1.7517,  0.7076,  2.2103, -1.5405,  1.2070,  0.0998]],\n",
       "       grad_fn=<IndexBackward0>)"
      ]
     },
     "execution_count": 15,
     "metadata": {},
     "output_type": "execute_result"
    }
   ],
   "source": [
    "token_ids = torch.LongTensor([1, 4, 5, 0])\n",
    "w[token_ids]"
   ]
  }
 ],
 "metadata": {
  "kernelspec": {
   "display_name": ".venv",
   "language": "python",
   "name": "python3"
  },
  "language_info": {
   "codemirror_mode": {
    "name": "ipython",
    "version": 3
   },
   "file_extension": ".py",
   "mimetype": "text/x-python",
   "name": "python",
   "nbconvert_exporter": "python",
   "pygments_lexer": "ipython3",
   "version": "3.12.9"
  }
 },
 "nbformat": 4,
 "nbformat_minor": 2
}
