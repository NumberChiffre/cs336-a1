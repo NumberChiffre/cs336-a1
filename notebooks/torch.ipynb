{
 "cells": [
  {
   "cell_type": "code",
   "execution_count": 1,
   "metadata": {},
   "outputs": [],
   "source": [
    "import torch\n",
    "import torch.nn as nn"
   ]
  },
  {
   "cell_type": "code",
   "execution_count": 13,
   "metadata": {},
   "outputs": [
    {
     "data": {
      "text/plain": [
       "Parameter containing:\n",
       "tensor([[-0.3832,  0.8606, -1.7517,  0.7076,  2.2103, -1.5405,  1.2070,  0.0998],\n",
       "        [-0.7179,  0.4025, -0.8924,  1.8451, -0.9918,  0.7694,  0.2267,  0.8916],\n",
       "        [ 0.4341,  0.1305, -0.8007,  0.4984, -0.9012, -1.3600,  0.3625,  0.1098],\n",
       "        [-0.8205,  0.3829,  0.1975, -0.6843,  1.2443, -0.2354, -0.4630,  0.9522],\n",
       "        [ 0.4790,  1.1544,  2.1247, -0.2140, -0.7958,  0.9266,  0.2810, -0.9987],\n",
       "        [-1.8545, -1.1224,  1.1660, -0.3597, -2.3507,  1.0263, -0.0092, -1.2897],\n",
       "        [ 1.0308, -1.4569,  0.3120, -2.0290,  0.0909, -1.8946,  0.1431, -0.5837]],\n",
       "       requires_grad=True)"
      ]
     },
     "execution_count": 13,
     "metadata": {},
     "output_type": "execute_result"
    }
   ],
   "source": [
    "weight = torch.empty((7, 8))\n",
    "nn.init.trunc_normal_(weight, a=-3, b=3)\n",
    "w = nn.Parameter(weight)\n",
    "w"
   ]
  },
  {
   "cell_type": "code",
   "execution_count": 15,
   "metadata": {},
   "outputs": [
    {
     "data": {
      "text/plain": [
       "tensor([[-0.7179,  0.4025, -0.8924,  1.8451, -0.9918,  0.7694,  0.2267,  0.8916],\n",
       "        [ 0.4790,  1.1544,  2.1247, -0.2140, -0.7958,  0.9266,  0.2810, -0.9987],\n",
       "        [-1.8545, -1.1224,  1.1660, -0.3597, -2.3507,  1.0263, -0.0092, -1.2897],\n",
       "        [-0.3832,  0.8606, -1.7517,  0.7076,  2.2103, -1.5405,  1.2070,  0.0998]],\n",
       "       grad_fn=<IndexBackward0>)"
      ]
     },
     "execution_count": 15,
     "metadata": {},
     "output_type": "execute_result"
    }
   ],
   "source": [
    "token_ids = torch.LongTensor([1, 4, 5, 0])\n",
    "w[token_ids]"
   ]
  },
  {
   "cell_type": "code",
   "execution_count": 22,
   "metadata": {},
   "outputs": [
    {
     "data": {
      "text/plain": [
       "tensor([[2.2103],\n",
       "        [1.8451],\n",
       "        [0.4984],\n",
       "        [1.2443],\n",
       "        [2.1247],\n",
       "        [1.1660],\n",
       "        [1.0308]], grad_fn=<MaxBackward0>)"
      ]
     },
     "execution_count": 22,
     "metadata": {},
     "output_type": "execute_result"
    }
   ],
   "source": [
    "w.max(dim=-1, keepdim=True).values"
   ]
  },
  {
   "cell_type": "code",
   "execution_count": 35,
   "metadata": {},
   "outputs": [
    {
     "name": "stdout",
     "output_type": "stream",
     "text": [
      "tensor([0.0000, 0.3333, 0.6667], device='mps:0')\n"
     ]
    },
    {
     "data": {
      "text/plain": [
       "torch.Size([3])"
      ]
     },
     "execution_count": 35,
     "metadata": {},
     "output_type": "execute_result"
    }
   ],
   "source": [
    "device = 'mps' if torch.backends.mps.is_available() else 'cpu'\n",
    "d_k = 6\n",
    "max_seq_len = 10\n",
    "theta = 0.5\n",
    "kd = torch.arange(0, d_k, 2, device=device) / d_k\n",
    "print(kd)\n",
    "kd.shape"
   ]
  },
  {
   "cell_type": "code",
   "execution_count": 36,
   "metadata": {},
   "outputs": [
    {
     "name": "stdout",
     "output_type": "stream",
     "text": [
      "tensor([[0],\n",
      "        [1],\n",
      "        [2],\n",
      "        [3],\n",
      "        [4],\n",
      "        [5],\n",
      "        [6],\n",
      "        [7],\n",
      "        [8],\n",
      "        [9]], device='mps:0')\n"
     ]
    },
    {
     "data": {
      "text/plain": [
       "torch.Size([10, 1])"
      ]
     },
     "execution_count": 36,
     "metadata": {},
     "output_type": "execute_result"
    }
   ],
   "source": [
    "positions = torch.arange(max_seq_len, device=device).unsqueeze(1)\n",
    "print(positions)\n",
    "positions.shape"
   ]
  },
  {
   "cell_type": "code",
   "execution_count": 37,
   "metadata": {},
   "outputs": [
    {
     "name": "stdout",
     "output_type": "stream",
     "text": [
      "tensor([[ 0.0000,  0.0000,  0.0000],\n",
      "        [ 1.0000,  1.2599,  1.5874],\n",
      "        [ 2.0000,  2.5198,  3.1748],\n",
      "        [ 3.0000,  3.7798,  4.7622],\n",
      "        [ 4.0000,  5.0397,  6.3496],\n",
      "        [ 5.0000,  6.2996,  7.9370],\n",
      "        [ 6.0000,  7.5595,  9.5244],\n",
      "        [ 7.0000,  8.8194, 11.1118],\n",
      "        [ 8.0000, 10.0794, 12.6992],\n",
      "        [ 9.0000, 11.3393, 14.2866]], device='mps:0')\n"
     ]
    },
    {
     "data": {
      "text/plain": [
       "torch.Size([10, 3])"
      ]
     },
     "execution_count": 37,
     "metadata": {},
     "output_type": "execute_result"
    }
   ],
   "source": [
    "angles = positions / (theta ** kd)\n",
    "print(angles)\n",
    "angles.shape"
   ]
  },
  {
   "cell_type": "code",
   "execution_count": 49,
   "metadata": {},
   "outputs": [
    {
     "data": {
      "text/plain": [
       "torch.Size([10, 10, 60])"
      ]
     },
     "execution_count": 49,
     "metadata": {},
     "output_type": "execute_result"
    }
   ],
   "source": [
    "d_model = 20\n",
    "num_heads = 5\n",
    "qkv_proj = nn.Linear(d_model, d_model * 3)\n",
    "x = torch.randn((10, 10, d_model))\n",
    "qkv = qkv_proj(x)\n",
    "qkv.size()"
   ]
  },
  {
   "cell_type": "code",
   "execution_count": 50,
   "metadata": {},
   "outputs": [
    {
     "data": {
      "text/plain": [
       "torch.Size([10, 10, 20])"
      ]
     },
     "execution_count": 50,
     "metadata": {},
     "output_type": "execute_result"
    }
   ],
   "source": [
    "q, k, v = qkv.split(d_model, dim=2)\n",
    "assert q.size() == k.size() == v.size()\n",
    "q.size()"
   ]
  },
  {
   "cell_type": "code",
   "execution_count": 48,
   "metadata": {},
   "outputs": [
    {
     "data": {
      "text/plain": [
       "torch.Size([10, 5, 10, 4])"
      ]
     },
     "execution_count": 48,
     "metadata": {},
     "output_type": "execute_result"
    }
   ],
   "source": [
    "from einops import rearrange\n",
    "q = rearrange(q, \"batch seq_len (h d_k) -> batch h seq_len d_k\", h=num_heads)\n",
    "q.shape"
   ]
  }
 ],
 "metadata": {
  "kernelspec": {
   "display_name": ".venv",
   "language": "python",
   "name": "python3"
  },
  "language_info": {
   "codemirror_mode": {
    "name": "ipython",
    "version": 3
   },
   "file_extension": ".py",
   "mimetype": "text/x-python",
   "name": "python",
   "nbconvert_exporter": "python",
   "pygments_lexer": "ipython3",
   "version": "3.12.9"
  }
 },
 "nbformat": 4,
 "nbformat_minor": 2
}
